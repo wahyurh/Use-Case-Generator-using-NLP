{
 "cells": [
  {
   "cell_type": "code",
   "execution_count": 9,
   "metadata": {
    "collapsed": true
   },
   "outputs": [],
   "source": [
    "import spacy\n",
    "import json\n",
    "from spacy.tokens import DocBin\n",
    "from tqdm import tqdm\n",
    "\n",
    "nlp = spacy.blank(\"en\") # load a new spacy model\n",
    "db = DocBin() # create a DocBin object"
   ]
  },
  {
   "cell_type": "code",
   "execution_count": 10,
   "outputs": [],
   "source": [
    "f = open('annotations.json')\n",
    "TRAIN_DATA = json.load(f)"
   ],
   "metadata": {
    "collapsed": false
   }
  },
  {
   "cell_type": "code",
   "execution_count": 11,
   "outputs": [
    {
     "name": "stderr",
     "output_type": "stream",
     "text": [
      "100%|██████████| 90/90 [00:00<00:00, 1874.89it/s]"
     ]
    },
    {
     "name": "stdout",
     "output_type": "stream",
     "text": [
      "Skipping entity\n"
     ]
    },
    {
     "name": "stderr",
     "output_type": "stream",
     "text": [
      "\n",
      "100%|██████████| 90/90 [00:00<00:00, 490.80it/s]"
     ]
    },
    {
     "name": "stdout",
     "output_type": "stream",
     "text": [
      "Skipping entity\n"
     ]
    },
    {
     "name": "stderr",
     "output_type": "stream",
     "text": [
      "\n"
     ]
    }
   ],
   "source": [
    "for text, annot in tqdm(TRAIN_DATA['annotations']):\n",
    "    doc = nlp.make_doc(text)\n",
    "    ents = []\n",
    "    for start, end, label in annot[\"entities\"]:\n",
    "        span = doc.char_span(start, end, label=label, alignment_mode=\"contract\")\n",
    "        if span is None:\n",
    "            print(\"Skipping entity\")\n",
    "        else:\n",
    "            ents.append(span)\n",
    "    doc.ents = ents\n",
    "    db.add(doc)\n",
    "\n",
    "db.to_disk(\"./training_data.spacy\") # save the docbin object"
   ],
   "metadata": {
    "collapsed": false
   }
  },
  {
   "cell_type": "code",
   "execution_count": 12,
   "outputs": [],
   "source": [
    "##! python -m spacy init config config.cfg --lang en --pipeline ner --optimize efficiency"
   ],
   "metadata": {
    "collapsed": false
   }
  },
  {
   "cell_type": "code",
   "execution_count": 13,
   "outputs": [],
   "source": [
    "##! python -m spacy train config.cfg --output ./ --paths.train ./training_data.spacy --paths.dev ./training_data.spacy"
   ],
   "metadata": {
    "collapsed": false
   }
  },
  {
   "cell_type": "code",
   "execution_count": 14,
   "outputs": [],
   "source": [
    "nlp_ner = spacy.load(\"model-best\")"
   ],
   "metadata": {
    "collapsed": false
   }
  },
  {
   "cell_type": "code",
   "execution_count": 18,
   "outputs": [
    {
     "data": {
      "text/plain": "<IPython.core.display.HTML object>",
      "text/html": "<span class=\"tex2jax_ignore\"><div class=\"entities\" style=\"line-height: 2.5; direction: ltr\">Budgeting, chart creation, \n<mark class=\"entity\" style=\"background: #ddd; padding: 0.45em 0.6em; margin: 0 0.25em; line-height: 1; border-radius: 0.35em;\">\n    data\n    <span style=\"font-size: 0.8em; font-weight: bold; line-height: 1; border-radius: 0.35em; vertical-align: middle; margin-left: 0.5rem\">ACTOR</span>\n</mark>\n analytics and more – all at your fingertips. The \n<mark class=\"entity\" style=\"background: #ddd; padding: 0.45em 0.6em; margin: 0 0.25em; line-height: 1; border-radius: 0.35em;\">\n    Excel\n    <span style=\"font-size: 0.8em; font-weight: bold; line-height: 1; border-radius: 0.35em; vertical-align: middle; margin-left: 0.5rem\">ACTOR</span>\n</mark>\n spreadsheet and budgeting app lets you create, \n<mark class=\"entity\" style=\"background: #ddd; padding: 0.45em 0.6em; margin: 0 0.25em; line-height: 1; border-radius: 0.35em;\">\n    view, edit and share files\n    <span style=\"font-size: 0.8em; font-weight: bold; line-height: 1; border-radius: 0.35em; vertical-align: middle; margin-left: 0.5rem\">ACTIVITY</span>\n</mark>\n, \n<mark class=\"entity\" style=\"background: #ddd; padding: 0.45em 0.6em; margin: 0 0.25em; line-height: 1; border-radius: 0.35em;\">\n    charts\n    <span style=\"font-size: 0.8em; font-weight: bold; line-height: 1; border-radius: 0.35em; vertical-align: middle; margin-left: 0.5rem\">ACTOR</span>\n</mark>\n and \n<mark class=\"entity\" style=\"background: #ddd; padding: 0.45em 0.6em; margin: 0 0.25em; line-height: 1; border-radius: 0.35em;\">\n    data\n    <span style=\"font-size: 0.8em; font-weight: bold; line-height: 1; border-radius: 0.35em; vertical-align: middle; margin-left: 0.5rem\">ACTOR</span>\n</mark>\n. Excel’s built-in file editor lets you \n<mark class=\"entity\" style=\"background: #ddd; padding: 0.45em 0.6em; margin: 0 0.25em; line-height: 1; border-radius: 0.35em;\">\n    manage your finances with on\n    <span style=\"font-size: 0.8em; font-weight: bold; line-height: 1; border-radius: 0.35em; vertical-align: middle; margin-left: 0.5rem\">ACTIVITY</span>\n</mark>\n-the-go budget and expense tracking integration. We \n<mark class=\"entity\" style=\"background: #ddd; padding: 0.45em 0.6em; margin: 0 0.25em; line-height: 1; border-radius: 0.35em;\">\n    make it easy\n    <span style=\"font-size: 0.8em; font-weight: bold; line-height: 1; border-radius: 0.35em; vertical-align: middle; margin-left: 0.5rem\">ACTIVITY</span>\n</mark>\n to \n<mark class=\"entity\" style=\"background: #ddd; padding: 0.45em 0.6em; margin: 0 0.25em; line-height: 1; border-radius: 0.35em;\">\n    review and analyze data\n    <span style=\"font-size: 0.8em; font-weight: bold; line-height: 1; border-radius: 0.35em; vertical-align: middle; margin-left: 0.5rem\">ACTIVITY</span>\n</mark>\n, edit templates, and \n<mark class=\"entity\" style=\"background: #ddd; padding: 0.45em 0.6em; margin: 0 0.25em; line-height: 1; border-radius: 0.35em;\">\n    more\n    <span style=\"font-size: 0.8em; font-weight: bold; line-height: 1; border-radius: 0.35em; vertical-align: middle; margin-left: 0.5rem\">ACTOR</span>\n</mark>\n.</br></br>With Excel you can \n<mark class=\"entity\" style=\"background: #ddd; padding: 0.45em 0.6em; margin: 0 0.25em; line-height: 1; border-radius: 0.35em;\">\n    confidently edit documents\n    <span style=\"font-size: 0.8em; font-weight: bold; line-height: 1; border-radius: 0.35em; vertical-align: middle; margin-left: 0.5rem\">ACTIVITY</span>\n</mark>\n, \n<mark class=\"entity\" style=\"background: #ddd; padding: 0.45em 0.6em; margin: 0 0.25em; line-height: 1; border-radius: 0.35em;\">\n    track\n    <span style=\"font-size: 0.8em; font-weight: bold; line-height: 1; border-radius: 0.35em; vertical-align: middle; margin-left: 0.5rem\">ACTOR</span>\n</mark>\n expenses, and compile charts and \n<mark class=\"entity\" style=\"background: #ddd; padding: 0.45em 0.6em; margin: 0 0.25em; line-height: 1; border-radius: 0.35em;\">\n    data\n    <span style=\"font-size: 0.8em; font-weight: bold; line-height: 1; border-radius: 0.35em; vertical-align: middle; margin-left: 0.5rem\">ACTOR</span>\n</mark>\n . Create \n<mark class=\"entity\" style=\"background: #ddd; padding: 0.45em 0.6em; margin: 0 0.25em; line-height: 1; border-radius: 0.35em;\">\n    charts\n    <span style=\"font-size: 0.8em; font-weight: bold; line-height: 1; border-radius: 0.35em; vertical-align: middle; margin-left: 0.5rem\">ACTOR</span>\n</mark>\n directly from your phone for convenient \n<mark class=\"entity\" style=\"background: #ddd; padding: 0.45em 0.6em; margin: 0 0.25em; line-height: 1; border-radius: 0.35em;\">\n    data analysis\n    <span style=\"font-size: 0.8em; font-weight: bold; line-height: 1; border-radius: 0.35em; vertical-align: middle; margin-left: 0.5rem\">ACTIVITY</span>\n</mark>\n, accounting, and financial management. Access to spreadsheets, pivot tables and chart \n<mark class=\"entity\" style=\"background: #ddd; padding: 0.45em 0.6em; margin: 0 0.25em; line-height: 1; border-radius: 0.35em;\">\n    makers\n    <span style=\"font-size: 0.8em; font-weight: bold; line-height: 1; border-radius: 0.35em; vertical-align: middle; margin-left: 0.5rem\">ACTOR</span>\n</mark>\n \n<mark class=\"entity\" style=\"background: #ddd; padding: 0.45em 0.6em; margin: 0 0.25em; line-height: 1; border-radius: 0.35em;\">\n    make budgeting\n    <span style=\"font-size: 0.8em; font-weight: bold; line-height: 1; border-radius: 0.35em; vertical-align: middle; margin-left: 0.5rem\">ACTIVITY</span>\n</mark>\n in Excel easy.</br></br>\n<mark class=\"entity\" style=\"background: #ddd; padding: 0.45em 0.6em; margin: 0 0.25em; line-height: 1; border-radius: 0.35em;\">\n    Make spreadsheets\n    <span style=\"font-size: 0.8em; font-weight: bold; line-height: 1; border-radius: 0.35em; vertical-align: middle; margin-left: 0.5rem\">ACTIVITY</span>\n</mark>\n and data files with robust formatting tools and features that boost your productivity. Build charts and sheets that meet specific needs with Excel’s wide array of worksheet resources.</br></br>Spreadsheets, business collaboration, \n<mark class=\"entity\" style=\"background: #ddd; padding: 0.45em 0.6em; margin: 0 0.25em; line-height: 1; border-radius: 0.35em;\">\n    charts\n    <span style=\"font-size: 0.8em; font-weight: bold; line-height: 1; border-radius: 0.35em; vertical-align: middle; margin-left: 0.5rem\">ACTOR</span>\n</mark>\n and data analysis tools all on your phone with Microsoft Excel.</br></br>Microsoft \n<mark class=\"entity\" style=\"background: #ddd; padding: 0.45em 0.6em; margin: 0 0.25em; line-height: 1; border-radius: 0.35em;\">\n    Excel\n    <span style=\"font-size: 0.8em; font-weight: bold; line-height: 1; border-radius: 0.35em; vertical-align: middle; margin-left: 0.5rem\">ACTOR</span>\n</mark>\n Features:</br></br>Spreadsheets &amp; Calculations</br>\n<mark class=\"entity\" style=\"background: #ddd; padding: 0.45em 0.6em; margin: 0 0.25em; line-height: 1; border-radius: 0.35em;\">\n    •\n    <span style=\"font-size: 0.8em; font-weight: bold; line-height: 1; border-radius: 0.35em; vertical-align: middle; margin-left: 0.5rem\">ACTIVITY</span>\n</mark>\n Create \n<mark class=\"entity\" style=\"background: #ddd; padding: 0.45em 0.6em; margin: 0 0.25em; line-height: 1; border-radius: 0.35em;\">\n    charts\n    <span style=\"font-size: 0.8em; font-weight: bold; line-height: 1; border-radius: 0.35em; vertical-align: middle; margin-left: 0.5rem\">ACTIVITY</span>\n</mark>\n, budgets, task lists, accounting &amp; financial analysis with Excel's modern templates.</br>• Use an accounting calculator, \n<mark class=\"entity\" style=\"background: #ddd; padding: 0.45em 0.6em; margin: 0 0.25em; line-height: 1; border-radius: 0.35em;\">\n    data\n    <span style=\"font-size: 0.8em; font-weight: bold; line-height: 1; border-radius: 0.35em; vertical-align: middle; margin-left: 0.5rem\">ACTOR</span>\n</mark>\n analysis tools &amp; familiar formulas to run calculations on spreadsheets.</br>• Workbook sheets and charts are easier to read and use with rich Office features &amp; formatting options.</br>• Spreadsheet &amp; chart features, formats &amp; formulas operate the same way on any device.</br></br>Accounting, Budget &amp; Expense Tracking</br>• Budget Template: Spreadsheets &amp; charts help calculate budget needs.</br>• Budget Planner: Budget templates &amp; tools to help you \n<mark class=\"entity\" style=\"background: #ddd; padding: 0.45em 0.6em; margin: 0 0.25em; line-height: 1; border-radius: 0.35em;\">\n    drill\n    <span style=\"font-size: 0.8em; font-weight: bold; line-height: 1; border-radius: 0.35em; vertical-align: middle; margin-left: 0.5rem\">ACTIVITY</span>\n</mark>\n down to your finance needs.</br>• Budget Tracker: \n<mark class=\"entity\" style=\"background: #ddd; padding: 0.45em 0.6em; margin: 0 0.25em; line-height: 1; border-radius: 0.35em;\">\n    Track\n    <span style=\"font-size: 0.8em; font-weight: bold; line-height: 1; border-radius: 0.35em; vertical-align: middle; margin-left: 0.5rem\">ACTOR</span>\n</mark>\n \n<mark class=\"entity\" style=\"background: #ddd; padding: 0.45em 0.6em; margin: 0 0.25em; line-height: 1; border-radius: 0.35em;\">\n    expenses &amp; save money\n    <span style=\"font-size: 0.8em; font-weight: bold; line-height: 1; border-radius: 0.35em; vertical-align: middle; margin-left: 0.5rem\">ACTIVITY</span>\n</mark>\n.</br>• Accounting app: Use as a tax calculator for estimates, personal finances &amp; more.</br></br>Data Analysis</br>\n<mark class=\"entity\" style=\"background: #ddd; padding: 0.45em 0.6em; margin: 0 0.25em; line-height: 1; border-radius: 0.35em;\">\n    •\n    <span style=\"font-size: 0.8em; font-weight: bold; line-height: 1; border-radius: 0.35em; vertical-align: middle; margin-left: 0.5rem\">ACTIVITY</span>\n</mark>\n \n<mark class=\"entity\" style=\"background: #ddd; padding: 0.45em 0.6em; margin: 0 0.25em; line-height: 1; border-radius: 0.35em;\">\n    Chart maker:\n    <span style=\"font-size: 0.8em; font-weight: bold; line-height: 1; border-radius: 0.35em; vertical-align: middle; margin-left: 0.5rem\">ACTIVITY</span>\n</mark>\n Annotate, edit &amp; insert charts that bring data to \n<mark class=\"entity\" style=\"background: #ddd; padding: 0.45em 0.6em; margin: 0 0.25em; line-height: 1; border-radius: 0.35em;\">\n    life\n    <span style=\"font-size: 0.8em; font-weight: bold; line-height: 1; border-radius: 0.35em; vertical-align: middle; margin-left: 0.5rem\">ACTIVITY</span>\n</mark>\n.</br>• Data analysis: \n<mark class=\"entity\" style=\"background: #ddd; padding: 0.45em 0.6em; margin: 0 0.25em; line-height: 1; border-radius: 0.35em;\">\n    Add &amp; edit\n    <span style=\"font-size: 0.8em; font-weight: bold; line-height: 1; border-radius: 0.35em; vertical-align: middle; margin-left: 0.5rem\">ACTIVITY</span>\n</mark>\n chart labels to highlight key insights.</br>• Budget tracker: \n<mark class=\"entity\" style=\"background: #ddd; padding: 0.45em 0.6em; margin: 0 0.25em; line-height: 1; border-radius: 0.35em;\">\n    Track\n    <span style=\"font-size: 0.8em; font-weight: bold; line-height: 1; border-radius: 0.35em; vertical-align: middle; margin-left: 0.5rem\">ACTOR</span>\n</mark>\n expenses with a personal budget template.</br>• Pivot \n<mark class=\"entity\" style=\"background: #ddd; padding: 0.45em 0.6em; margin: 0 0.25em; line-height: 1; border-radius: 0.35em;\">\n    Charts\n    <span style=\"font-size: 0.8em; font-weight: bold; line-height: 1; border-radius: 0.35em; vertical-align: middle; margin-left: 0.5rem\">ACTOR</span>\n</mark>\n and spreadsheet visualization tools offer easily digestible formats.</br></br>\n<mark class=\"entity\" style=\"background: #ddd; padding: 0.45em 0.6em; margin: 0 0.25em; line-height: 1; border-radius: 0.35em;\">\n    Review and Edit\n• File editor:\n    <span style=\"font-size: 0.8em; font-weight: bold; line-height: 1; border-radius: 0.35em; vertical-align: middle; margin-left: 0.5rem\">ACTIVITY</span>\n</mark>\n \n<mark class=\"entity\" style=\"background: #ddd; padding: 0.45em 0.6em; margin: 0 0.25em; line-height: 1; border-radius: 0.35em;\">\n    Edit documents\n    <span style=\"font-size: 0.8em; font-weight: bold; line-height: 1; border-radius: 0.35em; vertical-align: middle; margin-left: 0.5rem\">ACTIVITY</span>\n</mark>\n, \n<mark class=\"entity\" style=\"background: #ddd; padding: 0.45em 0.6em; margin: 0 0.25em; line-height: 1; border-radius: 0.35em;\">\n    charts\n    <span style=\"font-size: 0.8em; font-weight: bold; line-height: 1; border-radius: 0.35em; vertical-align: middle; margin-left: 0.5rem\">ACTOR</span>\n</mark>\n and data from anywhere.</br>• Data analysis features like sort &amp; filter columns.</br>• \n<mark class=\"entity\" style=\"background: #ddd; padding: 0.45em 0.6em; margin: 0 0.25em; line-height: 1; border-radius: 0.35em;\">\n    Annotate charts\n    <span style=\"font-size: 0.8em; font-weight: bold; line-height: 1; border-radius: 0.35em; vertical-align: middle; margin-left: 0.5rem\">ACTIVITY</span>\n</mark>\n, highlight parts of worksheets, create shapes &amp; write equations with the \n<mark class=\"entity\" style=\"background: #ddd; padding: 0.45em 0.6em; margin: 0 0.25em; line-height: 1; border-radius: 0.35em;\">\n    draw\n    <span style=\"font-size: 0.8em; font-weight: bold; line-height: 1; border-radius: 0.35em; vertical-align: middle; margin-left: 0.5rem\">ACTOR</span>\n</mark>\n tab on devices with touch capabilities.</br></br>Collaborate and Work Anywhere</br>\n<mark class=\"entity\" style=\"background: #ddd; padding: 0.45em 0.6em; margin: 0 0.25em; line-height: 1; border-radius: 0.35em;\">\n    •\n    <span style=\"font-size: 0.8em; font-weight: bold; line-height: 1; border-radius: 0.35em; vertical-align: middle; margin-left: 0.5rem\">ACTIVITY</span>\n</mark>\n \n<mark class=\"entity\" style=\"background: #ddd; padding: 0.45em 0.6em; margin: 0 0.25em; line-height: 1; border-radius: 0.35em;\">\n    Share files &amp; Excel\n    <span style=\"font-size: 0.8em; font-weight: bold; line-height: 1; border-radius: 0.35em; vertical-align: middle; margin-left: 0.5rem\">ACTIVITY</span>\n</mark>\n sheets in a few taps to invite others to edit, \n<mark class=\"entity\" style=\"background: #ddd; padding: 0.45em 0.6em; margin: 0 0.25em; line-height: 1; border-radius: 0.35em;\">\n    view or leave comments\n    <span style=\"font-size: 0.8em; font-weight: bold; line-height: 1; border-radius: 0.35em; vertical-align: middle; margin-left: 0.5rem\">ACTIVITY</span>\n</mark>\n.</br>\n<mark class=\"entity\" style=\"background: #ddd; padding: 0.45em 0.6em; margin: 0 0.25em; line-height: 1; border-radius: 0.35em;\">\n    •\n    <span style=\"font-size: 0.8em; font-weight: bold; line-height: 1; border-radius: 0.35em; vertical-align: middle; margin-left: 0.5rem\">ACTIVITY</span>\n</mark>\n Edit &amp; copy your worksheet in the body of an email or attach a link to your workbook.</br></br>Microsoft \n<mark class=\"entity\" style=\"background: #ddd; padding: 0.45em 0.6em; margin: 0 0.25em; line-height: 1; border-radius: 0.35em;\">\n    Excel\n    <span style=\"font-size: 0.8em; font-weight: bold; line-height: 1; border-radius: 0.35em; vertical-align: middle; margin-left: 0.5rem\">ACTOR</span>\n</mark>\n is your all-in-one expense manager, chart maker, budget planner, and \n<mark class=\"entity\" style=\"background: #ddd; padding: 0.45em 0.6em; margin: 0 0.25em; line-height: 1; border-radius: 0.35em;\">\n    more\n    <span style=\"font-size: 0.8em; font-weight: bold; line-height: 1; border-radius: 0.35em; vertical-align: middle; margin-left: 0.5rem\">ACTIVITY</span>\n</mark>\n. Get \n<mark class=\"entity\" style=\"background: #ddd; padding: 0.45em 0.6em; margin: 0 0.25em; line-height: 1; border-radius: 0.35em;\">\n    more done today with extensive spreadsheet\n    <span style=\"font-size: 0.8em; font-weight: bold; line-height: 1; border-radius: 0.35em; vertical-align: middle; margin-left: 0.5rem\">ACTIVITY</span>\n</mark>\n tools to enhance your productivity.</br></br>REQUIREMENTS:</br>1 GB RAM or above</br></br>To create or edit documents, sign in with a free Microsoft account on devices with a screen size smaller than 10.1 inches.</br></br>Unlock the full Microsoft experience with a qualifying Microsoft 365 subscription for your phone, tablet, PC and Mac.</br></br>Microsoft 365 subscriptions purchased from the app will be charged to your Play Store account and will automatically renew within 24 hours prior to the end of the current subscription period, unless auto-renewal is disabled beforehand. You can \n<mark class=\"entity\" style=\"background: #ddd; padding: 0.45em 0.6em; margin: 0 0.25em; line-height: 1; border-radius: 0.35em;\">\n    manage your subscriptions in\n    <span style=\"font-size: 0.8em; font-weight: bold; line-height: 1; border-radius: 0.35em; vertical-align: middle; margin-left: 0.5rem\">ACTIVITY</span>\n</mark>\n your Play Store account settings. A subscription cannot be cancelled during the active subscription period.</br></br>This app is provided by either Microsoft or a third-party app publisher and is subject to a separate privacy statement and terms and conditions. Data provided through the use of this store and this app may be accessible to Microsoft or the third-party app publisher, as applicable, and transferred to, stored, and processed in the United States or any other country where Microsoft or the app publisher and their affiliates or service providers maintain facilities.</br></br>Please refer to Microsoft's EULA for Terms of Service for Microsoft 365 on Android. By installing the app, you agree to these terms and conditions: http://aka.ms/eula</br></div></span>"
     },
     "metadata": {},
     "output_type": "display_data"
    }
   ],
   "source": [
    "doc = nlp_ner('''Budgeting, chart creation, data analytics and more – all at your fingertips. The Excel spreadsheet and budgeting app lets you create, view, edit and share files, charts and data. Excel’s built-in file editor lets you manage your finances with on-the-go budget and expense tracking integration. We make it easy to review and analyze data, edit templates, and more.\n",
    "\n",
    "With Excel you can confidently edit documents, track expenses, and compile charts and data . Create charts directly from your phone for convenient data analysis, accounting, and financial management. Access to spreadsheets, pivot tables and chart makers make budgeting in Excel easy.\n",
    "\n",
    "Make spreadsheets and data files with robust formatting tools and features that boost your productivity. Build charts and sheets that meet specific needs with Excel’s wide array of worksheet resources.\n",
    "\n",
    "Spreadsheets, business collaboration, charts and data analysis tools all on your phone with Microsoft Excel.\n",
    "\n",
    "Microsoft Excel Features:\n",
    "\n",
    "Spreadsheets & Calculations\n",
    "• Create charts, budgets, task lists, accounting & financial analysis with Excel's modern templates.\n",
    "• Use an accounting calculator, data analysis tools & familiar formulas to run calculations on spreadsheets.\n",
    "• Workbook sheets and charts are easier to read and use with rich Office features & formatting options.\n",
    "• Spreadsheet & chart features, formats & formulas operate the same way on any device.\n",
    "\n",
    "Accounting, Budget & Expense Tracking\n",
    "• Budget Template: Spreadsheets & charts help calculate budget needs.\n",
    "• Budget Planner: Budget templates & tools to help you drill down to your finance needs.\n",
    "• Budget Tracker: Track expenses & save money.\n",
    "• Accounting app: Use as a tax calculator for estimates, personal finances & more.\n",
    "\n",
    "Data Analysis\n",
    "• Chart maker: Annotate, edit & insert charts that bring data to life.\n",
    "• Data analysis: Add & edit chart labels to highlight key insights.\n",
    "• Budget tracker: Track expenses with a personal budget template.\n",
    "• Pivot Charts and spreadsheet visualization tools offer easily digestible formats.\n",
    "\n",
    "Review and Edit\n",
    "• File editor: Edit documents, charts and data from anywhere.\n",
    "• Data analysis features like sort & filter columns.\n",
    "• Annotate charts, highlight parts of worksheets, create shapes & write equations with the draw tab on devices with touch capabilities.\n",
    "\n",
    "Collaborate and Work Anywhere\n",
    "• Share files & Excel sheets in a few taps to invite others to edit, view or leave comments.\n",
    "• Edit & copy your worksheet in the body of an email or attach a link to your workbook.\n",
    "\n",
    "Microsoft Excel is your all-in-one expense manager, chart maker, budget planner, and more. Get more done today with extensive spreadsheet tools to enhance your productivity.\n",
    "\n",
    "REQUIREMENTS:\n",
    "1 GB RAM or above\n",
    "\n",
    "To create or edit documents, sign in with a free Microsoft account on devices with a screen size smaller than 10.1 inches.\n",
    "\n",
    "Unlock the full Microsoft experience with a qualifying Microsoft 365 subscription for your phone, tablet, PC and Mac.\n",
    "\n",
    "Microsoft 365 subscriptions purchased from the app will be charged to your Play Store account and will automatically renew within 24 hours prior to the end of the current subscription period, unless auto-renewal is disabled beforehand. You can manage your subscriptions in your Play Store account settings. A subscription cannot be cancelled during the active subscription period.\n",
    "\n",
    "This app is provided by either Microsoft or a third-party app publisher and is subject to a separate privacy statement and terms and conditions. Data provided through the use of this store and this app may be accessible to Microsoft or the third-party app publisher, as applicable, and transferred to, stored, and processed in the United States or any other country where Microsoft or the app publisher and their affiliates or service providers maintain facilities.\n",
    "\n",
    "Please refer to Microsoft's EULA for Terms of Service for Microsoft 365 on Android. By installing the app, you agree to these terms and conditions: http://aka.ms/eula\n",
    "''')\n",
    "spacy.displacy.render(doc, style=\"ent\", jupyter=True)"
   ],
   "metadata": {
    "collapsed": false
   }
  },
  {
   "cell_type": "markdown",
   "source": [],
   "metadata": {
    "collapsed": false
   }
  }
 ],
 "metadata": {
  "kernelspec": {
   "display_name": "Python 3",
   "language": "python",
   "name": "python3"
  },
  "language_info": {
   "codemirror_mode": {
    "name": "ipython",
    "version": 2
   },
   "file_extension": ".py",
   "mimetype": "text/x-python",
   "name": "python",
   "nbconvert_exporter": "python",
   "pygments_lexer": "ipython2",
   "version": "2.7.6"
  }
 },
 "nbformat": 4,
 "nbformat_minor": 0
}
